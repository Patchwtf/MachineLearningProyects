{
  "cells": [
    {
      "cell_type": "markdown",
      "source": [
        "# Hierarchical clustering\n",
        "\n",
        "[Curso de Clustering con Python y scikit-learn](https://platzi.com/cursos/clustering)"
      ],
      "metadata": {
        "id": "Yn-mgdpcvMD5"
      }
    },
    {
      "cell_type": "markdown",
      "source": [
        "## Importar librerías"
      ],
      "metadata": {
        "id": "BwIbsJL2vQOS"
      }
    },
    {
      "cell_type": "code",
      "execution_count": null,
      "outputs": [],
      "source": [
        "import numpy as np\n",
        "import pandas as pd\n",
        "import matplotlib.pyplot as plt\n",
        "import seaborn as sns\n",
        "from sklearn.datasets import make_blobs\n",
        "from sklearn.cluster import AgglomerativeClustering\n",
        "from sklearn.metrics import silhouette_score\n",
        "from scipy.cluster.hierarchy import dendrogram, linkage"
      ],
      "metadata": {
        "pycharm": {
          "name": "#%%\n"
        },
        "id": "IpmrhRl8ulEX"
      }
    },
    {
      "cell_type": "markdown",
      "source": [
        "## Preparando datos de prueba"
      ],
      "metadata": {
        "id": "f109q0ZlvUnp"
      }
    },
    {
      "cell_type": "code",
      "execution_count": null,
      "outputs": [],
      "source": [
        "X,y, c = make_blobs(500, cluster_std=0.8, centers=4, n_features=2,return_centers=True)\n",
        "\n",
        "df_blobs = pd.DataFrame(\n",
        "    {\n",
        "        'x1': X[:,0],\n",
        "        'x2': X[:,1],\n",
        "        'y': y,\n",
        "    }\n",
        ")\n",
        "\n",
        "df_centers = pd.DataFrame(\n",
        "    {\n",
        "        'x1': c[:,0],\n",
        "        'x2': c[:,1],\n",
        "    }\n",
        ")"
      ],
      "metadata": {
        "pycharm": {
          "name": "#%%\n"
        },
        "id": "Cse1qDB3ulEd"
      }
    },
    {
      "cell_type": "markdown",
      "source": [
        "## Visualización de datos"
      ],
      "metadata": {
        "id": "D36rPtcbvWuv"
      }
    },
    {
      "cell_type": "code",
      "execution_count": null,
      "outputs": [
        {
          "output_type": "display_data",
          "data": {
            "text/plain": [
              "<Figure size 576x576 with 1 Axes>"
            ],
            "image/png": "[encoded data removed]"
          },
          "metadata": {
            "needs_background": "light"
          }
        }
      ],
      "source": [
        "fig = plt.figure(figsize=(8,8))\n",
        "sns.scatterplot(data=df_blobs, x='x1',y='x2')\n",
        "plt.show()"
      ],
      "metadata": {
        "pycharm": {
          "name": "#%%\n"
        },
        "id": "Qt8vsJU3ulEe",
        "colab": {
          "base_uri": "https://localhost:8080/",
          "height": 497
        },
        "outputId": "c5b6b8bb-ff6a-4bd6-d659-c51c753a8f4d"
      }
    },
    {
      "cell_type": "markdown",
      "source": [
        "## Dendrograma y hierarchical clustering"
      ],
      "metadata": {
        "id": "aRKyhKekva0i"
      }
    },
    {
      "cell_type": "code",
      "execution_count": null,
      "outputs": [],
      "source": [],
      "metadata": {
        "pycharm": {
          "name": "#%%\n"
        },
        "id": "T_HXAWkuulEg"
      }
    },
    {
      "cell_type": "code",
      "execution_count": null,
      "outputs": [],
      "source": [],
      "metadata": {
        "pycharm": {
          "name": "#%%\n"
        },
        "id": "AYCGunAaulEh"
      }
    },
    {
      "cell_type": "code",
      "execution_count": null,
      "outputs": [],
      "source": [],
      "metadata": {
        "pycharm": {
          "name": "#%%\n"
        },
        "id": "rGy2WLlHulEi"
      }
    },
    {
      "cell_type": "code",
      "source": [],
      "metadata": {
        "id": "IbJCy5QX4Rk1"
      },
      "execution_count": null,
      "outputs": []
    },
    {
      "cell_type": "markdown",
      "source": [
        "## Evaluación de hierarchical clustering"
      ],
      "metadata": {
        "collapsed": false,
        "pycharm": {
          "name": "#%% md\n"
        },
        "id": "w64xPcuvulEk"
      }
    },
    {
      "cell_type": "code",
      "source": [],
      "metadata": {
        "id": "neeSEyXA6duq"
      },
      "execution_count": 1,
      "outputs": []
    },
    {
      "cell_type": "code",
      "execution_count": 1,
      "outputs": [],
      "source": [
        "from sklearn.datasets import make_blobs\n",
        "from sklearn.cluster import KMeans\n",
        "from sklearn.metrics import silhouette_samples, silhouette_score\n",
        "\n",
        "import matplotlib.pyplot as plt\n",
        "import matplotlib.cm as cm\n",
        "import numpy as np\n",
        "\n"
      ],
      "metadata": {
        "pycharm": {
          "name": "#%%\n"
        },
        "id": "oBRSj8I-ulEm"
      }
    },
    {
      "cell_type": "code",
      "execution_count": 1,
      "outputs": [],
      "source": [],
      "metadata": {
        "pycharm": {
          "name": "#%%\n"
        },
        "id": "gkQuKqUYulEn"
      }
    }
  ],
  "metadata": {
    "kernelspec": {
      "display_name": "Python 3",
      "language": "python",
      "name": "python3"
    },
    "language_info": {
      "codemirror_mode": {
        "name": "ipython",
        "version": 2
      },
      "file_extension": ".py",
      "mimetype": "text/x-python",
      "name": "python",
      "nbconvert_exporter": "python",
      "pygments_lexer": "ipython2",
      "version": "2.7.6"
    },
    "colab": {
      "provenance": []
    }
  },
  "nbformat": 4,
  "nbformat_minor": 0
}